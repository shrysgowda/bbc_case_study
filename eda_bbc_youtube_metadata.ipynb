{
 "cells": [
  {
   "cell_type": "code",
   "execution_count": 1,
   "metadata": {},
   "outputs": [],
   "source": [
    "import pandas as pd\n",
    "import matplotlib.pyplot as plt\n",
    "import string\n",
    "from nltk.corpus import stopwords\n",
    "from nltk.tokenize import word_tokenize\n",
    "import re\n",
    "import seaborn as sb\n",
    "pd.set_option('display.max_columns', 50)"
   ]
  },
  {
   "cell_type": "code",
   "execution_count": 2,
   "metadata": {},
   "outputs": [],
   "source": [
    "df = pd.read_csv(r\"./bbc.csv\")"
   ]
  },
  {
   "cell_type": "code",
   "execution_count": 3,
   "metadata": {},
   "outputs": [
    {
     "data": {
      "text/plain": [
       "(12456, 20)"
      ]
     },
     "execution_count": 3,
     "metadata": {},
     "output_type": "execute_result"
    }
   ],
   "source": [
    "df.shape"
   ]
  },
  {
   "cell_type": "markdown",
   "metadata": {},
   "source": [
    "Q: Types of data that are present in the dataset\n",
    "A: There seems to be 1: bool, 4: float64, 5: int64, 10: object types in the dataset\n"
   ]
  },
  {
   "cell_type": "code",
   "execution_count": 4,
   "metadata": {},
   "outputs": [
    {
     "name": "stdout",
     "output_type": "stream",
     "text": [
      "<class 'pandas.core.frame.DataFrame'>\n",
      "RangeIndex: 12456 entries, 0 to 12455\n",
      "Data columns (total 20 columns):\n",
      " #   Column                Non-Null Count  Dtype  \n",
      "---  ------                --------------  -----  \n",
      " 0   position              12456 non-null  int64  \n",
      " 1   channel_id            12456 non-null  object \n",
      " 2   channel_title         12456 non-null  object \n",
      " 3   video_id              12456 non-null  object \n",
      " 4   published_at          12456 non-null  object \n",
      " 5   video_title           12456 non-null  object \n",
      " 6   video_description     12456 non-null  object \n",
      " 7   video_category_id     12456 non-null  int64  \n",
      " 8   video_category_label  12456 non-null  object \n",
      " 9   duration              12456 non-null  object \n",
      " 10  duration_sec          12456 non-null  int64  \n",
      " 11  dimension             12456 non-null  object \n",
      " 12  definition            12456 non-null  object \n",
      " 13  caption               12456 non-null  bool   \n",
      " 14  licensed_content      11878 non-null  float64\n",
      " 15  view_count            12456 non-null  int64  \n",
      " 16  like_count            12454 non-null  float64\n",
      " 17  dislike_count         12454 non-null  float64\n",
      " 18  favorite_count        12456 non-null  int64  \n",
      " 19  comment_count         12361 non-null  float64\n",
      "dtypes: bool(1), float64(4), int64(5), object(10)\n",
      "memory usage: 1.8+ MB\n"
     ]
    }
   ],
   "source": [
    "df.info()"
   ]
  },
  {
   "cell_type": "markdown",
   "metadata": {},
   "source": [
    "Q: What is the minimum and maximum value for a published time header (‘parsed_time_pub’)? Present it in a year (YYYY) format."
   ]
  },
  {
   "cell_type": "code",
   "execution_count": 5,
   "metadata": {},
   "outputs": [
    {
     "name": "stdout",
     "output_type": "stream",
     "text": [
      "The maximum and minimum value for a published time header in (YYYY) format are 2020, 2007\n"
     ]
    }
   ],
   "source": [
    "df[\"published_at\"] = pd.to_datetime(df[\"published_at\"])\n",
    "max_value = df[\"published_at\"].max().year\n",
    "min_value = df[\"published_at\"].min().year\n",
    "print(f\"The maximum and minimum value for a published time header in (YYYY) format are {max_value}, {min_value}\")\n",
    "\n"
   ]
  },
  {
   "cell_type": "markdown",
   "metadata": {},
   "source": [
    "Q What are the 5 most popular video categories of all time? Please visualize the result"
   ]
  },
  {
   "cell_type": "code",
   "execution_count": 6,
   "metadata": {},
   "outputs": [],
   "source": [
    "def top_x_categories(df, x):\n",
    "    \"\"\"df: Dataframe to be processed\n",
    "        x: integer, how many top categories are to be selected\"\"\"\n",
    "    if x < len(df[\"video_category_label\"].unique()):\n",
    "        temp_df_view = df.groupby(by=\"video_category_label\")[\"view_count\"].agg('sum').sort_values(ascending=False).reset_index()[:x]\n",
    "        temp_df_like = df.groupby(by=\"video_category_label\")[\"like_count\"].agg('sum').sort_values(ascending=False).reset_index()[:x]\n",
    "\n",
    "        fig, (ax1, ax2) = plt.subplots(1, 2, figsize =(15, 8))\n",
    "        fig.suptitle('Top Video Categories')\n",
    "\n",
    "        video_category = temp_df_view[\"video_category_label\"]\n",
    "        view_count = temp_df_view[\"view_count\"]\n",
    "        ax1.bar(video_category, view_count)\n",
    "        ax1.title.set_text(\"By View Count\")\n",
    "        ax1.tick_params(axis='x', labelrotation=40)\n",
    "        \n",
    "        video_category = temp_df_like[\"video_category_label\"]\n",
    "        like_count = temp_df_like[\"like_count\"]\n",
    "        ax2.bar(video_category, like_count)\n",
    "        ax2.title.set_text(\"By Like Count\")\n",
    "        ax2.tick_params(axis='x', labelrotation=40)\n",
    "\n",
    "\n",
    "        # plt.show()\n",
    "    else:\n",
    "        print(\"please select fewer number of categories\")\n",
    "\n"
   ]
  },
  {
   "cell_type": "code",
   "execution_count": 7,
   "metadata": {},
   "outputs": [
    {
     "data": {
      "image/png": "[encoded data removed]",
      "text/plain": [
       "<Figure size 1080x576 with 2 Axes>"
      ]
     },
     "metadata": {
      "needs_background": "light"
     },
     "output_type": "display_data"
    }
   ],
   "source": [
    "top_x_categories(df, 5)"
   ]
  },
  {
   "cell_type": "markdown",
   "metadata": {},
   "source": [
    "Q: Slice the dataset by cutting the following columns:\n",
    "published_at, video_category_id, duration, dimension, licensed_content, favorite_count."
   ]
  },
  {
   "cell_type": "code",
   "execution_count": 8,
   "metadata": {},
   "outputs": [
    {
     "data": {
      "text/html": [
       "<div>\n",
       "<style scoped>\n",
       "    .dataframe tbody tr th:only-of-type {\n",
       "        vertical-align: middle;\n",
       "    }\n",
       "\n",
       "    .dataframe tbody tr th {\n",
       "        vertical-align: top;\n",
       "    }\n",
       "\n",
       "    .dataframe thead th {\n",
       "        text-align: right;\n",
       "    }\n",
       "</style>\n",
       "<table border=\"1\" class=\"dataframe\">\n",
       "  <thead>\n",
       "    <tr style=\"text-align: right;\">\n",
       "      <th></th>\n",
       "      <th>published_at</th>\n",
       "      <th>video_category_id</th>\n",
       "      <th>duration</th>\n",
       "      <th>dimension</th>\n",
       "      <th>licensed_content</th>\n",
       "      <th>favorite_count</th>\n",
       "    </tr>\n",
       "  </thead>\n",
       "  <tbody>\n",
       "    <tr>\n",
       "      <th>0</th>\n",
       "      <td>2020-08-13 15:00:02+00:00</td>\n",
       "      <td>24</td>\n",
       "      <td>PT5M23S</td>\n",
       "      <td>2d</td>\n",
       "      <td>1.0</td>\n",
       "      <td>0</td>\n",
       "    </tr>\n",
       "    <tr>\n",
       "      <th>1</th>\n",
       "      <td>2020-08-13 14:30:04+00:00</td>\n",
       "      <td>24</td>\n",
       "      <td>PT3M15S</td>\n",
       "      <td>2d</td>\n",
       "      <td>1.0</td>\n",
       "      <td>0</td>\n",
       "    </tr>\n",
       "    <tr>\n",
       "      <th>2</th>\n",
       "      <td>2020-08-13 05:50:21+00:00</td>\n",
       "      <td>27</td>\n",
       "      <td>PT14M48S</td>\n",
       "      <td>2d</td>\n",
       "      <td>NaN</td>\n",
       "      <td>0</td>\n",
       "    </tr>\n",
       "    <tr>\n",
       "      <th>3</th>\n",
       "      <td>2020-08-12 13:00:13+00:00</td>\n",
       "      <td>27</td>\n",
       "      <td>PT3M50S</td>\n",
       "      <td>2d</td>\n",
       "      <td>1.0</td>\n",
       "      <td>0</td>\n",
       "    </tr>\n",
       "    <tr>\n",
       "      <th>4</th>\n",
       "      <td>2020-08-12 11:00:02+00:00</td>\n",
       "      <td>24</td>\n",
       "      <td>PT1M52S</td>\n",
       "      <td>2d</td>\n",
       "      <td>1.0</td>\n",
       "      <td>0</td>\n",
       "    </tr>\n",
       "  </tbody>\n",
       "</table>\n",
       "</div>"
      ],
      "text/plain": [
       "               published_at  video_category_id  duration dimension  \\\n",
       "0 2020-08-13 15:00:02+00:00                 24   PT5M23S        2d   \n",
       "1 2020-08-13 14:30:04+00:00                 24   PT3M15S        2d   \n",
       "2 2020-08-13 05:50:21+00:00                 27  PT14M48S        2d   \n",
       "3 2020-08-12 13:00:13+00:00                 27   PT3M50S        2d   \n",
       "4 2020-08-12 11:00:02+00:00                 24   PT1M52S        2d   \n",
       "\n",
       "   licensed_content  favorite_count  \n",
       "0               1.0               0  \n",
       "1               1.0               0  \n",
       "2               NaN               0  \n",
       "3               1.0               0  \n",
       "4               1.0               0  "
      ]
     },
     "execution_count": 8,
     "metadata": {},
     "output_type": "execute_result"
    }
   ],
   "source": [
    "col_required = ['published_at', 'video_category_id', 'duration','dimension', 'licensed_content', 'favorite_count']\n",
    "sliced_df = df[col_required]\n",
    "sliced_df.head()"
   ]
  },
  {
   "cell_type": "markdown",
   "metadata": {},
   "source": [
    "Q: From the column 'video_title' create a new header 'video_title_clean' by:\n",
    "-\tRemoving punctuation;\n",
    "-\tRemoving stopwords;\n",
    "-\tRemoving digits;\n",
    "-\tRemoving following strings: ‘bbc one’, ‘bbc two’, 'bbc three’, ‘bbc’, ‘part’, ‘episode’, ‘series’, ‘preview’, ‘show’.\n"
   ]
  },
  {
   "cell_type": "code",
   "execution_count": 9,
   "metadata": {},
   "outputs": [],
   "source": [
    "keyword_list = [\"bbc one\",\"bbc two\",\"bbc three\", \"bbc\",\"part\",\"episode\",\"series\",\"preview\",\"show\",\"\\d+\"] # keywords to be removed\n",
    "search_pattern = re.compile(\"|\".join(r\"\\b{}\\b\".format(x) for x in keyword_list))\n",
    "\n",
    "def clean_text(x):\n",
    "    stop_words = stopwords.words('english')\n",
    "    x = str(x).lower().strip()\n",
    "    x_no_punct = str(x).translate(str.maketrans('', '', string.punctuation)) # remove punctuations\n",
    "    x_no_keywords = re.sub(search_pattern, \"\", x_no_punct) # removes keywords and digits \n",
    "    tokens = word_tokenize(x_no_keywords)\n",
    "    no_stopword = [word for word in tokens if word not in stop_words] # removes stpowords\n",
    "\n",
    "    return \" \".join(no_stopword)\n",
    "    \n",
    "    "
   ]
  },
  {
   "cell_type": "code",
   "execution_count": 10,
   "metadata": {},
   "outputs": [],
   "source": [
    "df[\"video_title_clean\"] = df[\"video_title\"].apply(lambda x: clean_text(x))\n"
   ]
  },
  {
   "cell_type": "markdown",
   "metadata": {},
   "source": [
    "Q: Find the top 5 keywords from the newly generated ‘video_title_clean’ header for each year represented in the dataset."
   ]
  },
  {
   "cell_type": "code",
   "execution_count": 11,
   "metadata": {},
   "outputs": [],
   "source": [
    "df[\"published_at_year\"] = df[\"published_at\"].apply(lambda x: x.year)\n"
   ]
  },
  {
   "cell_type": "code",
   "execution_count": 12,
   "metadata": {},
   "outputs": [],
   "source": [
    "df_keyword_year = df.groupby(by= [\"published_at_year\"])[\"video_title_clean\"].apply(lambda x: \" \".join(x)).reset_index()"
   ]
  },
  {
   "cell_type": "code",
   "execution_count": 13,
   "metadata": {},
   "outputs": [],
   "source": [
    "def get_word_count(text, x):\n",
    "    \"\"\"\n",
    "    text: the text from which the top keywords are to be extracted\n",
    "    x: integer, how many top keywords are to be extracted\n",
    "    \"\"\"\n",
    "    tokens = word_tokenize(text)\n",
    "    count = {}\n",
    "    for word in word_tokenize(text):\n",
    "        if word in count:\n",
    "            count[word] += 1\n",
    "        else:\n",
    "            count[word] = 1\n",
    "    final_dict = sorted(count.items(), key=lambda x:x[1], reverse= True)[:x]\n",
    "\n",
    "    return final_dict"
   ]
  },
  {
   "cell_type": "code",
   "execution_count": 14,
   "metadata": {},
   "outputs": [],
   "source": [
    "df_keyword_year[\"top_keywords\"] = df_keyword_year[\"video_title_clean\"].apply(lambda x: get_word_count(x, 5))"
   ]
  },
  {
   "cell_type": "code",
   "execution_count": 15,
   "metadata": {},
   "outputs": [
    {
     "data": {
      "text/html": [
       "<div>\n",
       "<style scoped>\n",
       "    .dataframe tbody tr th:only-of-type {\n",
       "        vertical-align: middle;\n",
       "    }\n",
       "\n",
       "    .dataframe tbody tr th {\n",
       "        vertical-align: top;\n",
       "    }\n",
       "\n",
       "    .dataframe thead th {\n",
       "        text-align: right;\n",
       "    }\n",
       "</style>\n",
       "<table border=\"1\" class=\"dataframe\">\n",
       "  <thead>\n",
       "    <tr style=\"text-align: right;\">\n",
       "      <th></th>\n",
       "      <th>published_at_year</th>\n",
       "      <th>video_title_clean</th>\n",
       "      <th>top_keywords</th>\n",
       "    </tr>\n",
       "  </thead>\n",
       "  <tbody>\n",
       "    <tr>\n",
       "      <th>0</th>\n",
       "      <td>2007</td>\n",
       "      <td>kevins joyride eastenders russell brands raunc...</td>\n",
       "      <td>[(strictly, 37), (dancing, 37), (come, 36), (r...</td>\n",
       "    </tr>\n",
       "    <tr>\n",
       "      <th>1</th>\n",
       "      <td>2008</td>\n",
       "      <td>london fireworks new years day new year live s...</td>\n",
       "      <td>[(dancing, 113), (strictly, 112), (come, 111),...</td>\n",
       "    </tr>\n",
       "    <tr>\n",
       "      <th>2</th>\n",
       "      <td>2009</td>\n",
       "      <td>hip hop think dance auditions think dance surv...</td>\n",
       "      <td>[(week, 103), (night, 88), (jonathan, 86), (ro...</td>\n",
       "    </tr>\n",
       "    <tr>\n",
       "      <th>3</th>\n",
       "      <td>2010</td>\n",
       "      <td>jonathan ross sees constellations stargazing l...</td>\n",
       "      <td>[(rainbow, 135), (dance, 113), (week, 104), (e...</td>\n",
       "    </tr>\n",
       "    <tr>\n",
       "      <th>4</th>\n",
       "      <td>2011</td>\n",
       "      <td>original british drama pips mystery benefactor...</td>\n",
       "      <td>[(song, 101), (graham, 96), (eurovision, 96), ...</td>\n",
       "    </tr>\n",
       "    <tr>\n",
       "      <th>5</th>\n",
       "      <td>2012</td>\n",
       "      <td>close encounter polar bear polar bear family m...</td>\n",
       "      <td>[(voice, 203), (uk, 197), (come, 139), (dancin...</td>\n",
       "    </tr>\n",
       "    <tr>\n",
       "      <th>6</th>\n",
       "      <td>2013</td>\n",
       "      <td>dolphin megapod filmed first time dolphins spy...</td>\n",
       "      <td>[(voice, 212), (uk, 199), (come, 155), (strict...</td>\n",
       "    </tr>\n",
       "    <tr>\n",
       "      <th>7</th>\n",
       "      <td>2014</td>\n",
       "      <td>grape eating contest mock week christmas ella ...</td>\n",
       "      <td>[(voice, 215), (uk, 204), (performs, 157), (gl...</td>\n",
       "    </tr>\n",
       "    <tr>\n",
       "      <th>8</th>\n",
       "      <td>2015</td>\n",
       "      <td>making victorian london sherlock abominable br...</td>\n",
       "      <td>[(jools, 109), (holland, 104), (graham, 100), ...</td>\n",
       "    </tr>\n",
       "    <tr>\n",
       "      <th>9</th>\n",
       "      <td>2016</td>\n",
       "      <td>helga james brothel taboo tvs famous chair gra...</td>\n",
       "      <td>[(graham, 101), (norton, 100), (–, 38), (micha...</td>\n",
       "    </tr>\n",
       "    <tr>\n",
       "      <th>10</th>\n",
       "      <td>2017</td>\n",
       "      <td>michael jackson called zac efron graham norton...</td>\n",
       "      <td>[(graham, 115), (norton, 113), (let, 84), (shi...</td>\n",
       "    </tr>\n",
       "    <tr>\n",
       "      <th>11</th>\n",
       "      <td>2018</td>\n",
       "      <td>fantine abandoned baby cosette les misérables ...</td>\n",
       "      <td>[(graham, 66), (norton, 58), (together, 57), (...</td>\n",
       "    </tr>\n",
       "    <tr>\n",
       "      <th>12</th>\n",
       "      <td>2019</td>\n",
       "      <td>unlikely lines cosmetics commercial mock week ...</td>\n",
       "      <td>[(graham, 95), (norton, 92), (live, 86), (danc...</td>\n",
       "    </tr>\n",
       "    <tr>\n",
       "      <th>13</th>\n",
       "      <td>2020</td>\n",
       "      <td>colin robinsons origins species shadows maisie...</td>\n",
       "      <td>[(coronavirus, 141), (🔴, 102), (covid19, 84), ...</td>\n",
       "    </tr>\n",
       "  </tbody>\n",
       "</table>\n",
       "</div>"
      ],
      "text/plain": [
       "    published_at_year                                  video_title_clean  \\\n",
       "0                2007  kevins joyride eastenders russell brands raunc...   \n",
       "1                2008  london fireworks new years day new year live s...   \n",
       "2                2009  hip hop think dance auditions think dance surv...   \n",
       "3                2010  jonathan ross sees constellations stargazing l...   \n",
       "4                2011  original british drama pips mystery benefactor...   \n",
       "5                2012  close encounter polar bear polar bear family m...   \n",
       "6                2013  dolphin megapod filmed first time dolphins spy...   \n",
       "7                2014  grape eating contest mock week christmas ella ...   \n",
       "8                2015  making victorian london sherlock abominable br...   \n",
       "9                2016  helga james brothel taboo tvs famous chair gra...   \n",
       "10               2017  michael jackson called zac efron graham norton...   \n",
       "11               2018  fantine abandoned baby cosette les misérables ...   \n",
       "12               2019  unlikely lines cosmetics commercial mock week ...   \n",
       "13               2020  colin robinsons origins species shadows maisie...   \n",
       "\n",
       "                                         top_keywords  \n",
       "0   [(strictly, 37), (dancing, 37), (come, 36), (r...  \n",
       "1   [(dancing, 113), (strictly, 112), (come, 111),...  \n",
       "2   [(week, 103), (night, 88), (jonathan, 86), (ro...  \n",
       "3   [(rainbow, 135), (dance, 113), (week, 104), (e...  \n",
       "4   [(song, 101), (graham, 96), (eurovision, 96), ...  \n",
       "5   [(voice, 203), (uk, 197), (come, 139), (dancin...  \n",
       "6   [(voice, 212), (uk, 199), (come, 155), (strict...  \n",
       "7   [(voice, 215), (uk, 204), (performs, 157), (gl...  \n",
       "8   [(jools, 109), (holland, 104), (graham, 100), ...  \n",
       "9   [(graham, 101), (norton, 100), (–, 38), (micha...  \n",
       "10  [(graham, 115), (norton, 113), (let, 84), (shi...  \n",
       "11  [(graham, 66), (norton, 58), (together, 57), (...  \n",
       "12  [(graham, 95), (norton, 92), (live, 86), (danc...  \n",
       "13  [(coronavirus, 141), (🔴, 102), (covid19, 84), ...  "
      ]
     },
     "execution_count": 15,
     "metadata": {},
     "output_type": "execute_result"
    }
   ],
   "source": [
    "df_keyword_year"
   ]
  },
  {
   "cell_type": "markdown",
   "metadata": {},
   "source": [
    "Q Calculate and assign a new column 'engagement rate' for each row using the following formula: total engagements (likes, comments, dislikes) divided by the number of views per post, then multiply the result by 100 and round it up to 1 decimal."
   ]
  },
  {
   "cell_type": "code",
   "execution_count": 16,
   "metadata": {},
   "outputs": [],
   "source": [
    "def get_engagement_rate(row):\n",
    "    numerator = row[\"like_count\"] + row[\"comment_count\"] + row[\"dislike_count\"]\n",
    "    denominator = row[\"view_count\"]\n",
    "    score = round(((numerator/denominator) * 100), 1)\n",
    "    return score"
   ]
  },
  {
   "cell_type": "code",
   "execution_count": 17,
   "metadata": {},
   "outputs": [],
   "source": [
    "df[\"engagement_rate\"] = df.apply(lambda row: get_engagement_rate(row), axis=1)"
   ]
  },
  {
   "cell_type": "markdown",
   "metadata": {},
   "source": [
    "Q Calculate the length of characters in ‘video_title_clean’ and assign it to ‘title_len’ column."
   ]
  },
  {
   "cell_type": "code",
   "execution_count": 18,
   "metadata": {},
   "outputs": [],
   "source": [
    "df[\"title_len\"] = df[\"video_title_clean\"].apply(lambda x: len(str(x)))"
   ]
  },
  {
   "cell_type": "markdown",
   "metadata": {},
   "source": [
    "Q Assign a dichotomized score for engagement rate in a separate column, where  ‘top 50%’  (engagement rate >=0.6) is represented by 1 , and ‘bottom 50%’ is represented by 0."
   ]
  },
  {
   "cell_type": "code",
   "execution_count": 19,
   "metadata": {},
   "outputs": [],
   "source": [
    "df[\"engagement_rate_top_50%\"] = df[\"engagement_rate\"].apply(lambda x: 1 if x >= 60 else 0)"
   ]
  },
  {
   "cell_type": "markdown",
   "metadata": {},
   "source": [
    "Q Encode ‘video category’ labels and ‘definition’ labels to numeric values"
   ]
  },
  {
   "cell_type": "markdown",
   "metadata": {},
   "source": [
    "Converting the variables in to ordinal categarical variables:\n",
    "HD is better than SD hence receives a higher number\n",
    "For video category label, it has been grouped by view count and high view count categories have received a higher number. "
   ]
  },
  {
   "cell_type": "code",
   "execution_count": 20,
   "metadata": {},
   "outputs": [],
   "source": [
    "video_category_mapping = df.groupby(by=\"video_category_label\")[\"view_count\"].agg('sum').sort_values(ascending=True).reset_index()\n",
    "video_category_mapping[\"video_category_ordinal\"] = video_category_mapping[\"view_count\"].rank(ascending = True)\n",
    "video_category_mapping[\"video_category_ordinal\"] = video_category_mapping[\"video_category_ordinal\"].astype('int')"
   ]
  },
  {
   "cell_type": "code",
   "execution_count": 21,
   "metadata": {},
   "outputs": [],
   "source": [
    "df[\"definition_ordinal\"] = df[\"definition\"].apply(lambda x: 2 if x==\"hd\" else 1)"
   ]
  },
  {
   "cell_type": "code",
   "execution_count": 22,
   "metadata": {},
   "outputs": [],
   "source": [
    "df = df.merge(video_category_mapping[[\"video_category_label\", \"video_category_ordinal\"]], how= 'left', left_on = \"video_category_label\", right_on = \"video_category_label\")"
   ]
  },
  {
   "cell_type": "markdown",
   "metadata": {},
   "source": [
    "Q Visualize a correlation between following headers:\n",
    "definition, duration, dichotomized score, parsed_time_pub, engagement rate, title length, video_category_label.\n"
   ]
  },
  {
   "cell_type": "code",
   "execution_count": 23,
   "metadata": {},
   "outputs": [],
   "source": [
    "corr_fields = [\"definition_ordinal\", \"duration_sec\",  \"engagement_rate\",\"published_at_year\", \"title_len\", \"video_category_ordinal\", \"view_count\"] #\"engagement_rate_top_50%\",\n",
    "df_corr = df[corr_fields]"
   ]
  },
  {
   "cell_type": "code",
   "execution_count": 24,
   "metadata": {},
   "outputs": [
    {
     "data": {
      "text/plain": [
       "<AxesSubplot:>"
      ]
     },
     "execution_count": 24,
     "metadata": {},
     "output_type": "execute_result"
    },
    {
     "data": {
      "image/png": "[encoded data removed]",
      "text/plain": [
       "<Figure size 432x288 with 2 Axes>"
      ]
     },
     "metadata": {
      "needs_background": "light"
     },
     "output_type": "display_data"
    }
   ],
   "source": [
    "corr = df_corr.corr()\n",
    "sb.heatmap(corr, cmap=\"Blues\", annot=True)"
   ]
  },
  {
   "cell_type": "markdown",
   "metadata": {},
   "source": [
    "Comments:\n",
    "- Removed dichotomized score from correlation calculation because none of the values for engagement rate was >= 60% and hence it was all zeros.\n",
    "- Positive correlation, which means that both variables move in the same direction. I.e. an increase in one variable is followed by an increase in the other variable:\n",
    "    - Strong Correlation ( x >=0.75): It is seen that \"published_at_year\" has a strong positive correlation with \"definition_ordinal\" 0.78. Which means that as the number of years passed increases the number of HD videos uploaded on the BBC YouTube channel has also increases. This can be due to usage of better-quality cameras to record the videos or technological advancements on the YouTube Platform to support HD videos.\n",
    "    - Moderate correlation (0.4< x < 0.75): It is seen that \"published_at_year\" has a moderate positive correlation with \"engagement_rate\" 0.56. Which means as number of years passed increases the rate of engagement on the platform also increases. This may indicate that as time as passed the engagement rate for the BCC channel has increased. This will need further investigation to check for the cause of this rise in engagement. It may be marketing efforts from BBC or Internet becoming widely available which might have increased the number of users on YouTube and thus increasing engagement on the platform as a whole.\n",
    "    Another obseravtion is that the as \"definition_ordinal\" increases the \"engagement_rate\" 0.4 also increases. Which means that as the quality of the video uploaded increases the engagement also increases. Again further investigation must be done to check this relationship.\n",
    "    - Weak correlation (0 < x < 0.4): It can be seen that \n",
    "        - “title_len” and “definition_ordinal” 0.23 higher the character lenght of the title, higher the quality of the video\n",
    "        - \"published_at_year\" and \"title_len\" 0.25 higher the published year, higher the character lenght of the title\n",
    "        - \"publihsed_at_year\" and \"duration_sec\" 0.32 higher the published year, higher the duration of the video\n",
    "        - \"engagement_rate\" and \"duration_sec\" 0.24 higher the duration of the video, higher the engagement rate.\n",
    "\n",
    "- Negative correlation, which means that both variables move in the opposite direction. I.e. an increase in one variable is followed by a decrease in the other variable:\n",
    "    - Weak Correlation (-0.4 < x < 0): \"duration_sec\" and \"video_category_ordinal\" -0.26. Meaning as the duration of a video increases \"video_category_ordinal\" decreases. Meaning as durations of a video increases, the view count of a video decreases. Becases video_category_ordinal\" has been encoded in such a way that videos with higher view count have a higher number and vice-versa. \n",
    "\n",
    "Note: None of the correlations between the variables indicate any causation. To check if an increase in one variable causes the other to increase further analysis must be done. "
   ]
  },
  {
   "cell_type": "code",
   "execution_count": null,
   "metadata": {},
   "outputs": [],
   "source": []
  }
 ],
 "metadata": {
  "kernelspec": {
   "display_name": "Python 3 (ipykernel)",
   "language": "python",
   "name": "python3"
  },
  "language_info": {
   "codemirror_mode": {
    "name": "ipython",
    "version": 3
   },
   "file_extension": ".py",
   "mimetype": "text/x-python",
   "name": "python",
   "nbconvert_exporter": "python",
   "pygments_lexer": "ipython3",
   "version": "3.8.10"
  }
 },
 "nbformat": 4,
 "nbformat_minor": 2
}
